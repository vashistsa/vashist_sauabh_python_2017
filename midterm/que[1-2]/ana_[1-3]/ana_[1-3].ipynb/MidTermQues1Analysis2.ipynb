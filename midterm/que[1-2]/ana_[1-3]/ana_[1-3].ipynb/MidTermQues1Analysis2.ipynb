{
 "cells": [
  {
   "cell_type": "code",
   "execution_count": 1,
   "metadata": {
    "collapsed": false
   },
   "outputs": [
    {
     "name": "stdout",
     "output_type": "stream",
     "text": [
      "C:\\Users\\DELL PC\n"
     ]
    }
   ],
   "source": [
    "import os\n",
    "\n",
    "relativePath = os.getcwd()\n",
    "folders=['midterm']\n",
    "subfolders= ['data']\n",
    "sfolders=['enron']\n",
    "if os.path.isdir(relativePath+'/midterm/data/enron') == 0:\n",
    "    for folder in folders:\n",
    "        os.mkdir(os.path.join(relativePath,folder))\n",
    "        for subfolder in subfolders:\n",
    "            os.mkdir(os.path.join(relativePath,folder,subfolder))\n",
    "            for sfolder in sfolders:\n",
    "                os.mkdir(os.path.join(relativePath,folder,subfolder,sfolder))\n",
    "else:\n",
    "    print(relativePath)"
   ]
  },
  {
   "cell_type": "code",
   "execution_count": 37,
   "metadata": {
    "collapsed": false
   },
   "outputs": [
    {
     "name": "stdout",
     "output_type": "stream",
     "text": [
      "[('Oct2001', 15020), ('Jan2002', 11304), ('Nov2001', 10101), ('Dec2001', 2578), ('Feb2002', 2535), ('May2001', 2432), ('Jun2001', 2182), ('Mar2002', 1232), ('Sep2001', 1080), ('Aug2001', 938), ('Jul2001', 758), ('May2002', 296), ('Apr2002', 270), ('Jun2002', 207), ('Apr2001', 165), ('Mar2001', 35), ('Oct0001', 33), ('Feb2004', 28), ('Dec0001', 24), ('Nov0001', 23), ('Feb2001', 18), ('Jan0002', 13), ('Jan2001', 11), ('Feb0002', 5), ('Mar0002', 4), ('Aug0001', 3), ('Oct2000', 3), ('Sep0001', 3), ('Nov2000', 2), ('Nov2012', 2), ('Apr1986', 1), ('Dec2005', 1), ('Feb2000', 1), ('Jan2000', 1), ('Jul1999', 1), ('Jun0001', 1), ('Mar2000', 1), ('May0001', 1), ('May1986', 1), ('May2024', 1), ('Sep2000', 1)]\n"
     ]
    }
   ],
   "source": [
    "def getDate(file, dateList):\n",
    "    with open(file, \"r\") as f:\n",
    "        data = f.read()\n",
    "    email = Parser().parsestr(data)\n",
    "    datesin= email['date']\n",
    "    datesin=datesin[7:16].replace(\" \",\"\")\n",
    "    dateList.append(datesin)\n",
    "        \n",
    "\n",
    "\n",
    "dateList = []\n",
    "for directory, subDirectory, fileNames in os.walk(relativePath+folder+'users\\maildir/'):\n",
    "    if 'deleted_items' in directory:\n",
    "        for file in fileNames:\n",
    "            getDate(os.path.join(directory, file), dateList)\n",
    "frequencyIn={}\n",
    "for c in dateList:\n",
    "    count=frequencyIn.get(c,0)\n",
    "    frequencyIn[c] = count + 1\n",
    "sortedDictIn = sorted(frequencyIn.items(), key=lambda x: (-x[1], x[0])) # sorted is used to sort dictionary in descending order. \n",
    "print(sortedDictIn)\n",
    "\n",
    "    "
   ]
  },
  {
   "cell_type": "code",
   "execution_count": 40,
   "metadata": {
    "collapsed": false
   },
   "outputs": [
    {
     "name": "stdout",
     "output_type": "stream",
     "text": [
      "[('Oct2001', 15020, 1), ('Jan2002', 11304, 2), ('Nov2001', 10101, 3), ('Dec2001', 2578, 4), ('Feb2002', 2535, 5), ('May2001', 2432, 6), ('Jun2001', 2182, 7), ('Mar2002', 1232, 8), ('Sep2001', 1080, 9), ('Aug2001', 938, 10), ('Jul2001', 758, 11), ('May2002', 296, 12), ('Apr2002', 270, 13), ('Jun2002', 207, 14), ('Apr2001', 165, 15), ('Mar2001', 35, 16), ('Oct0001', 33, 17), ('Feb2004', 28, 18), ('Dec0001', 24, 19), ('Nov0001', 23, 20), ('Feb2001', 18, 21), ('Jan0002', 13, 22), ('Jan2001', 11, 23), ('Feb0002', 5, 24), ('Mar0002', 4, 25), ('Aug0001', 3, 26), ('Oct2000', 3, 27), ('Sep0001', 3, 28), ('Nov2000', 2, 29), ('Nov2012', 2, 30), ('Apr1986', 1, 31), ('Dec2005', 1, 32), ('Feb2000', 1, 33), ('Jan2000', 1, 34), ('Jul1999', 1, 35), ('Jun0001', 1, 36), ('Mar2000', 1, 37), ('May0001', 1, 38), ('May1986', 1, 39), ('May2024', 1, 40), ('Sep2000', 1, 41)]\n"
     ]
    }
   ],
   "source": [
    "i = 1\n",
    "priorityList = []\n",
    "\n",
    "# Looping in order to assign priority to each month.\n",
    "for priority in range(len(sortedDictIn)):\n",
    "    obj1 = sortedDictIn[priority]\n",
    "    obj1 = obj1 + (i,)\n",
    "    priorityList.append(obj1)\n",
    "    i = i+1\n",
    "print(priorityList)"
   ]
  },
  {
   "cell_type": "code",
   "execution_count": 41,
   "metadata": {
    "collapsed": false
   },
   "outputs": [],
   "source": [
    "import csv\n",
    "\n",
    "#Writing to the csv file\n",
    "file= 'C:/Users/DELL PC/deletedEmail.csv'\n",
    "\n",
    "with open(file, 'w', newline='') as fp:\n",
    "    a = csv.writer(fp, delimiter=',')\n",
    "    a.writerow([\"Month-Year\", \"EmailDeleted\", \"Priority\"])\n",
    "    a.writerows(priorityList)"
   ]
  },
  {
   "cell_type": "code",
   "execution_count": 42,
   "metadata": {
    "collapsed": true
   },
   "outputs": [],
   "source": [
    "import matplotlib.pyplot as plt\n",
    "label = []\n",
    "y = []\n",
    "z = []\n",
    "\n",
    "# Reading CSV file in order to generate loglog figure.\n",
    "with open(file,'r') as csvfile:\n",
    "    next(csvfile)\n",
    "    next(csvfile)\n",
    "    plots = csv.reader(csvfile, delimiter=',')\n",
    "    for row in plots:\n",
    "        label.append(row[0])\n",
    "        y.append(int(row[1]))\n",
    "        z.append(int(row[2]))"
   ]
  },
  {
   "cell_type": "code",
   "execution_count": 46,
   "metadata": {
    "collapsed": false
   },
   "outputs": [
    {
     "data": {
      "image/png": "[encoded data removed]",
      "text/plain": [
       "<matplotlib.figure.Figure at 0x17720bbc5c0>"
      ]
     },
     "metadata": {},
     "output_type": "display_data"
    }
   ],
   "source": [
    "#Plotting and saving the plot\n",
    "pltFig = relativePath+\"/\"+'emailsDel.png'\n",
    "\n",
    "pltFig = relativePath+\"/\"+'emailsSent.png'\n",
    "\n",
    "plt.figure(figsize=(20,10))\n",
    "plt.bar(z, y, align='center')\n",
    "plt.xticks(z, label, rotation=90)\n",
    "plt.xlabel(\"Months of Year\")\n",
    "plt.ylabel(\"Count of Emails Deleted\")\n",
    "plt.savefig(pltFig, bbox_inches='tight')\n",
    "plt.show()"
   ]
  },
  {
   "cell_type": "code",
   "execution_count": null,
   "metadata": {
    "collapsed": true
   },
   "outputs": [],
   "source": []
  }
 ],
 "metadata": {
  "kernelspec": {
   "display_name": "Python 3",
   "language": "python",
   "name": "python3"
  },
  "language_info": {
   "codemirror_mode": {
    "name": "ipython",
    "version": 3
   },
   "file_extension": ".py",
   "mimetype": "text/x-python",
   "name": "python",
   "nbconvert_exporter": "python",
   "pygments_lexer": "ipython3",
   "version": "3.6.0"
  }
 },
 "nbformat": 4,
 "nbformat_minor": 2
}
