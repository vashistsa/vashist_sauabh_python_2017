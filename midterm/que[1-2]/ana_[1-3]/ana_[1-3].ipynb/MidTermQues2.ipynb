{
 "cells": [
  {
   "cell_type": "code",
   "execution_count": 4,
   "metadata": {
    "collapsed": true
   },
   "outputs": [],
   "source": [
    "import requests\n",
    "import json\n",
    "import os\n",
    "import csv\n",
    "import re\n",
    "import datetime\n",
    "import time\n",
    "relativePath = os.getcwd()"
   ]
  },
  {
   "cell_type": "code",
   "execution_count": 6,
   "metadata": {
    "collapsed": false
   },
   "outputs": [
    {
     "name": "stdout",
     "output_type": "stream",
     "text": [
      "https://api.nytimes.com/svc/archive/v1/2017/1.json?api-key=b1b2be44058542fca93facb16344d62f\n"
     ]
    }
   ],
   "source": [
    "year = 2017\n",
    "month = 1\n",
    "if os.path.exists(relativePath):\n",
    "    os.makedirs(relativePath+\"/\"+'midterm/que[1-2]/ana_[1-3]/Articles/jsonData')\n",
    "\n",
    "apikey = os.getenv('api_key')\n",
    "url = \"https://api.nytimes.com/svc/archive/v1/\"+str(year)+\"/\"+str(month)+\".json?api-key=\"+apikey\n",
    "print(url)\n",
    "response = requests.get(url)\n",
    "content=response.json()\n",
    "with open(relativePath+\"/\"+'midterm/que[1-2]/ana_[1-3]/Articles/jsonData'+\"/\"+str(month)+\"-\"+str(year)+'.json', 'w') as file:\n",
    "    json.dump(content, file)"
   ]
  },
  {
   "cell_type": "code",
   "execution_count": 7,
   "metadata": {
    "collapsed": false
   },
   "outputs": [
    {
     "data": {
      "text/plain": [
       "'C:\\\\Users\\\\Saurabh Vashist'"
      ]
     },
     "execution_count": 7,
     "metadata": {},
     "output_type": "execute_result"
    }
   ],
   "source": [
    "relativePath"
   ]
  },
  {
   "cell_type": "code",
   "execution_count": 6,
   "metadata": {
    "collapsed": false
   },
   "outputs": [
    {
     "name": "stdout",
     "output_type": "stream",
     "text": [
      "<Response [200]>\n",
      "<Response [200]>\n",
      "<Response [200]>\n",
      "<Response [200]>\n",
      "<Response [200]>\n",
      "<Response [200]>\n",
      "<Response [200]>\n",
      "<Response [200]>\n",
      "<Response [200]>\n",
      "<Response [200]>\n",
      "<Response [200]>\n",
      "<Response [200]>\n",
      "<Response [200]>\n",
      "<Response [200]>\n",
      "<Response [200]>\n",
      "<Response [200]>\n",
      "<Response [200]>\n",
      "<Response [200]>\n",
      "<Response [200]>\n",
      "<Response [200]>\n"
     ]
    }
   ],
   "source": [
    "#Fetching data using Article Search API\n",
    "key=os.getenv('api_key')\n",
    "begin_date='20150501'\n",
    "end_date='20161231'\n",
    "q='brexit'\n",
    "\n",
    "if os.path.exists(relativePath+\"/\"+'midterm/que[1-2]/ana_[1-3]/Articles/jsonData/'):\n",
    "    os.makedirs(relativePath+\"/\"+'midterm/que[1-2]/ana_[1-3]/Articles/jsonData/ArticleSearch/')\n",
    "\n",
    "page=0\n",
    "pages=20\n",
    "for i in range(0, pages):\n",
    "    article_url= \"http://api.nytimes.com/svc/search/v2/articlesearch.json?&api-key=\" + key +'&'+ \"q=\" + q +'&'+ \"begin_date=\" + begin_date +'&'+ \"end_date=\" + end_date +'&'+\"page=\" + str(i)  \n",
    "    #print(article_url)\n",
    "    response = requests.get(article_url)\n",
    "    time.sleep(5)\n",
    "    print(response)\n",
    "    content=response.json()\n",
    "    with open(relativePath+\"/\"+'midterm/que[1-2]/ana_[1-3]/Articles/jsonData/ArticleSearch'+\"/\"+\"Brexit\"+str(i)+'.json', 'w') as file:\n",
    "        json.dump(content, file)"
   ]
  },
  {
   "cell_type": "code",
   "execution_count": null,
   "metadata": {
    "collapsed": true
   },
   "outputs": [],
   "source": []
  }
 ],
 "metadata": {
  "kernelspec": {
   "display_name": "Python 3",
   "language": "python",
   "name": "python3"
  },
  "language_info": {
   "codemirror_mode": {
    "name": "ipython",
    "version": 3
   },
   "file_extension": ".py",
   "mimetype": "text/x-python",
   "name": "python",
   "nbconvert_exporter": "python",
   "pygments_lexer": "ipython3",
   "version": "3.6.0"
  }
 },
 "nbformat": 4,
 "nbformat_minor": 2
}
