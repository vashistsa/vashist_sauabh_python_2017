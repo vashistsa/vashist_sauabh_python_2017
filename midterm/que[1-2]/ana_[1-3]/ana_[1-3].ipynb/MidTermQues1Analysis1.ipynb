{
 "cells": [
  {
   "cell_type": "code",
   "execution_count": 2,
   "metadata": {
    "collapsed": false
   },
   "outputs": [
    {
     "name": "stdout",
     "output_type": "stream",
     "text": [
      "C:\\Users\\DELL PC\n"
     ]
    }
   ],
   "source": [
    "#Importing directory\n",
    "import os\n",
    "\n",
    "relativePath = os.getcwd()\n",
    "folders=['midterm']\n",
    "subfolders= ['data']\n",
    "sfolders=['enron']\n",
    "if os.path.isdir(relativePath+'/midterm/data/enron') == 0:\n",
    "    for folder in folders:\n",
    "        os.mkdir(os.path.join(relativePath,folder))\n",
    "        for subfolder in subfolders:\n",
    "            os.mkdir(os.path.join(relativePath,folder,subfolder))\n",
    "            for sfolder in sfolders:\n",
    "                os.mkdir(os.path.join(relativePath,folder,subfolder,sfolder))\n",
    "else:\n",
    "    print(relativePath)"
   ]
  },
  {
   "cell_type": "code",
   "execution_count": 53,
   "metadata": {
    "collapsed": false
   },
   "outputs": [
    {
     "name": "stdout",
     "output_type": "stream",
     "text": [
      "[('Apr2001', 2721), ('Jan2001', 2501), ('Mar2001', 2496), ('Feb2001', 2434), ('Nov2000', 2429), ('Oct2000', 2381), ('Dec2000', 2288), ('Sep2000', 1988), ('Aug2000', 1897), ('Jul2000', 1485), ('May2001', 1449), ('Jun2000', 1251), ('Mar2000', 942), ('May2000', 889), ('Apr2000', 840), ('Jan2000', 763), ('Feb2000', 689), ('Dec1999', 346), ('Jun2001', 249), ('Jul2002', 21)]\n"
     ]
    }
   ],
   "source": [
    "import glob\n",
    "from datetime import datetime\n",
    "from email.parser import Parser\n",
    "userPath=relativePath+'\\\\midterm\\\\data\\\\enron\\\\users\\\\maildir'\n",
    "users= os.listdir(userPath)\n",
    "dates=[]\n",
    "datesin=[]\n",
    "x=[]\n",
    "cleanDatesSent=[]\n",
    "cleanDatesIn=[]\n",
    "#print(relativePath)\n",
    "folder = '/midterm/data/enron/'\n",
    "for user in users:\n",
    "    #print(user)\n",
    "    sentDir= relativePath+folder+'users\\maildir/'+user+'/_sent_mail'\n",
    "    inboxDir= relativePath+folder+'users\\maildir/'+user+'/inbox'\n",
    "    sentmails=glob.glob(sentDir+'\\*')\n",
    "    #print(inmails)\n",
    "    #for inmail in inmails:\n",
    "        \n",
    "        #g = open(inmail,\"r\")\n",
    "        #datain=g.read()\n",
    "        #email = Parser().parsestr(datain)\n",
    "        #datesin= email['date']\n",
    "        #datesin=datesin[7:16].replace(\" \",\"\")\n",
    "        #cleanDatesIn.append(datesin)\n",
    "\n",
    "    for sentmail in sentmails:\n",
    "        f = open(sentmail,\"r\")\n",
    "        data=f.read()\n",
    "        email = Parser().parsestr(data)\n",
    "        dates= email['date']\n",
    "        dates=dates[7:16].replace(\" \",\"\")\n",
    "        cleanDatesSent.append(dates)\n",
    "        \n",
    "#print(cleanDatesSent)\n",
    "frequency={}\n",
    "for c in cleanDatesSent:\n",
    "    count=frequency.get(c,0)\n",
    "    frequency[c] = count + 1\n",
    "sortedDict = sorted(frequency.items(), key=lambda x: (-x[1], x[0])) # sorted is used to sort dictionary in descending order.\n",
    "print(sortedDict[0:20])\n"
   ]
  },
  {
   "cell_type": "code",
   "execution_count": 57,
   "metadata": {
    "collapsed": false
   },
   "outputs": [
    {
     "name": "stdout",
     "output_type": "stream",
     "text": [
      "[('Apr2001', 2721, 1), ('Jan2001', 2501, 2), ('Mar2001', 2496, 3), ('Feb2001', 2434, 4), ('Nov2000', 2429, 5), ('Oct2000', 2381, 6), ('Dec2000', 2288, 7), ('Sep2000', 1988, 8), ('Aug2000', 1897, 9), ('Jul2000', 1485, 10), ('May2001', 1449, 11), ('Jun2000', 1251, 12), ('Mar2000', 942, 13), ('May2000', 889, 14), ('Apr2000', 840, 15), ('Jan2000', 763, 16), ('Feb2000', 689, 17), ('Dec1999', 346, 18), ('Jun2001', 249, 19), ('Jul2002', 21, 20), ('Sep2001', 18, 21), ('Nov2001', 9, 22), ('Aug2001', 8, 23), ('Jul2001', 7, 24), ('Oct2001', 7, 25), ('Jun2002', 1, 26)]\n"
     ]
    }
   ],
   "source": [
    "i = 1\n",
    "priorityList = []\n",
    "\n",
    "# Looping in order to assign priority to each month.\n",
    "for priority in range(len(sortedDict)):\n",
    "    obj1 = sortedDict[priority]\n",
    "    obj1 = obj1 + (i,)\n",
    "    priorityList.append(obj1)\n",
    "    i = i+1\n",
    "print(priorityList)"
   ]
  },
  {
   "cell_type": "code",
   "execution_count": 58,
   "metadata": {
    "collapsed": false
   },
   "outputs": [],
   "source": [
    "import csv\n",
    "\n",
    "#Writing to the csv file\n",
    "file= 'C:/Users/DELL PC/emailsSent.csv'\n",
    "\n",
    "with open(file, 'w', newline='') as fp:\n",
    "    a = csv.writer(fp, delimiter=',')\n",
    "    a.writerow([\"Month-Year\", \"EmailsSent\",\"Priority\"])\n",
    "    a.writerows(priorityList)"
   ]
  },
  {
   "cell_type": "code",
   "execution_count": 59,
   "metadata": {
    "collapsed": false
   },
   "outputs": [],
   "source": [
    "import matplotlib.pyplot as plt\n",
    "label = []\n",
    "y = []\n",
    "z = []\n",
    "\n",
    "# Reading CSV file in order to generate loglog figure.\n",
    "with open(file,'r') as csvfile:\n",
    "    next(csvfile)\n",
    "    next(csvfile)\n",
    "    plots = csv.reader(csvfile, delimiter=',')\n",
    "    for row in plots:\n",
    "        label.append(row[0])\n",
    "        y.append(int(row[1]))\n",
    "        z.append(int(row[2]))"
   ]
  },
  {
   "cell_type": "code",
   "execution_count": 61,
   "metadata": {
    "collapsed": false
   },
   "outputs": [
    {
     "data": {
      "image/png": "[encoded data removed]",
      "text/plain": [
       "<matplotlib.figure.Figure at 0x1b6cc5fbe48>"
      ]
     },
     "metadata": {},
     "output_type": "display_data"
    }
   ],
   "source": [
    "# storing figure in png file and stored in D drive.\n",
    "pieFig = relativePath+\"/\"+'emailsSent.png'\n",
    "\n",
    "plt.figure(figsize=(15,10))\n",
    "plt.bar(z, y, align='center')\n",
    "plt.xticks(z, label, rotation=90)\n",
    "plt.xlabel(\"Months of Year\")\n",
    "plt.ylabel(\"Count of Emails Sent\")\n",
    "plt.savefig(pieFig, bbox_inches='tight')\n",
    "plt.show()"
   ]
  },
  {
   "cell_type": "code",
   "execution_count": null,
   "metadata": {
    "collapsed": true
   },
   "outputs": [],
   "source": []
  }
 ],
 "metadata": {
  "kernelspec": {
   "display_name": "Python 3",
   "language": "python",
   "name": "python3"
  },
  "language_info": {
   "codemirror_mode": {
    "name": "ipython",
    "version": 3
   },
   "file_extension": ".py",
   "mimetype": "text/x-python",
   "name": "python",
   "nbconvert_exporter": "python",
   "pygments_lexer": "ipython3",
   "version": "3.6.0"
  }
 },
 "nbformat": 4,
 "nbformat_minor": 2
}
