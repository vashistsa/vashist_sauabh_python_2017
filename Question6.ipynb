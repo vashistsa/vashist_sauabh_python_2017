{
 "cells": [
  {
   "cell_type": "markdown",
   "metadata": {},
   "source": [
    "# Question6\n",
    "\n",
    "Under Inaugural Address package\n",
    "For every president, find out how many unique words they used in speech. \n",
    "We will just assume that President Bush means one person (technically it is incorrect but we will ignore it)\n"
   ]
  },
  {
   "cell_type": "code",
   "execution_count": 46,
   "metadata": {
    "collapsed": false
   },
   "outputs": [
    {
     "name": "stdout",
     "output_type": "stream",
     "text": [
      "Washington\n",
      "55\n",
      "Adams\n",
      "55\n",
      "Jefferson\n",
      "52\n",
      "Madison\n",
      "43\n",
      "Monroe\n",
      "55\n",
      "Jackson\n",
      "47\n",
      "VanBuren\n",
      "60\n",
      "Harrison\n",
      "59\n",
      "Polk\n",
      "58\n",
      "Taylor\n",
      "50\n",
      "Pierce\n",
      "59\n",
      "Buchanan\n",
      "57\n",
      "Lincoln\n",
      "59\n",
      "Gran\n",
      "48\n",
      "Hayes\n",
      "57\n",
      "Garfield\n",
      "63\n",
      "Cleveland\n",
      "53\n",
      "McKinley\n",
      "62\n",
      "Roosevel\n",
      "49\n",
      "Taf\n",
      "60\n",
      "Wilson\n",
      "54\n",
      "Harding\n",
      "54\n",
      "Coolidge\n",
      "53\n",
      "Hoover\n",
      "55\n",
      "Truman\n",
      "54\n",
      "Eisenhower\n",
      "68\n",
      "Kennedy\n",
      "57\n",
      "Johnson\n",
      "59\n",
      "Nixon\n",
      "58\n",
      "Carter\n",
      "61\n",
      "Reagan\n",
      "62\n",
      "Bush\n",
      "61\n",
      "Clinton\n",
      "58\n",
      "Obama\n",
      "58\n"
     ]
    }
   ],
   "source": [
    "import nltk\n",
    "from nltk.corpus import inaugural\n",
    "fields= nltk.corpus.inaugural.fileids() #all the objects containing president terms\n",
    "uniqueWords= 0                                \n",
    "x=0       \n",
    "y=0\n",
    "while(x< len(fields)):\n",
    "    presidentName= fields[x][5:].strip('.txt') #extracting the name of president\n",
    "    print(presidentName)\n",
    "    speech= nltk.corpus.inaugural.raw(fields[x]) #extracting the speech of president in first term\n",
    "    y=x+1\n",
    "    while(y< len(fields)):\n",
    "        if(fields[x][5:].strip('.txt') == fields[y][5:].strip('.txt')): #finding other terms of same president\n",
    "            speech += nltk.corpus.inaugural.raw(fields[y]) #compiling speeches\n",
    "            del fields[y] #removing duplicates\n",
    "        y+=1    \n",
    "    count = {}\n",
    "    uniqueWords= 0\n",
    "    for s in speech: #calculating unique words in the speech\n",
    "        if s in count:\n",
    "            count[s] += 1 \n",
    "        else: \n",
    "            count[s] =1\n",
    "            uniqueWords += 1\n",
    "    print(uniqueWords)   \n",
    "    x+=1"
   ]
  }
 ],
 "metadata": {
  "kernelspec": {
   "display_name": "Python 3",
   "language": "python",
   "name": "python3"
  },
  "language_info": {
   "codemirror_mode": {
    "name": "ipython",
    "version": 3
   },
   "file_extension": ".py",
   "mimetype": "text/x-python",
   "name": "python",
   "nbconvert_exporter": "python",
   "pygments_lexer": "ipython3",
   "version": "3.6.0"
  }
 },
 "nbformat": 4,
 "nbformat_minor": 2
}
