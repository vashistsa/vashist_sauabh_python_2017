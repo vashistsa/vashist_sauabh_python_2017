{
 "cells": [
  {
   "cell_type": "markdown",
   "metadata": {},
   "source": [
    "# Question 5\n",
    "Use Gutenberg and Web_text data. Find out what are the top 5 words that Shakespeare used but we do not use in currently.\n",
    "Take top 50 words from Shakespeare (all 3 books) and top 50 from Web_text (all the records).\n",
    "Remove punctuation and stop words.\n",
    "Remove the words we still use today, and get the unused list. Show the top 5 elements. \n"
   ]
  },
  {
   "cell_type": "code",
   "execution_count": 1,
   "metadata": {
    "collapsed": false
   },
   "outputs": [
    {
     "name": "stdout",
     "output_type": "stream",
     "text": [
      "shakespeare Files ['shakespeare-caesar.txt', 'shakespeare-hamlet.txt', 'shakespeare-macbeth.txt']\n",
      "Webtext Files ['firefox.txt', 'grail.txt', 'overheard.txt', 'pirates.txt', 'singles.txt', 'wine.txt']\n"
     ]
    }
   ],
   "source": [
    "import nltk # importing nltk library\n",
    "gutenberg = nltk.corpus.gutenberg\n",
    "webText = nltk.corpus.webtext\n",
    "stopWords = nltk.corpus.stopwords\n",
    "\n",
    "# Getting all files of shakespeare from gutenberg. \n",
    "shakespeare = [file for file in gutenberg.fileids() if file.startswith('shakespeare')]\n",
    "print('shakespeare Files', shakespeare)\n",
    "print('Webtext Files', webText.fileids())"
   ]
  },
  {
   "cell_type": "code",
   "execution_count": 2,
   "metadata": {
    "collapsed": false
   },
   "outputs": [],
   "source": [
    "# Cleaning all webtext files.\n",
    "import re\n",
    "def clean(elem):\n",
    "    punct = re.compile('\\W+|(\\d+)')\n",
    "    return  re.match(punct, elem)\n",
    "\n",
    "webWords = list(webText.words())\n",
    "cleanList = [word.lower() for word in webWords if not clean(word)]\n",
    "\n",
    "# removing all stop words.\n",
    "filterList = cleanList[:] #make a copy of the cleanList\n",
    "for word in filterList: # iterate over cleanList\n",
    "    if word in stopWords.words('english'): \n",
    "        filterList.remove(word) # remove word from filterList if it is a stopword  \n"
   ]
  },
  {
   "cell_type": "code",
   "execution_count": 3,
   "metadata": {
    "collapsed": false
   },
   "outputs": [],
   "source": [
    "#Creating list to get all the words from shakespeare txt file\n",
    "shakeWords = []\n",
    "for file in shakespeare:\n",
    "    shakeWords.extend(gutenberg.words(file))\n",
    "    \n",
    "shakeList = [shakeL.lower() for shakeL in shakeWords if not clean(shakeL) ]\n",
    "    \n",
    "#Removing the Stopwords from the list\n",
    "cleanShakeWords = shakeList[:] # make a copy of the word_list\n",
    "for word in cleanShakeWords: # iterate over word_list\n",
    "    if word in stopWords.words('english'): \n",
    "        cleanShakeWords.remove(word) # remove word from cleanShakeWords if it is a stopword\n"
   ]
  },
  {
   "cell_type": "code",
   "execution_count": 4,
   "metadata": {
    "collapsed": false
   },
   "outputs": [],
   "source": [
    "# result to find we do not use currently\n",
    "result = ([word for word in cleanShakeWords if word not in cleanList])\n",
    "\n",
    "\n",
    "wordCount={}\n",
    "#Loop to find the unique words\n",
    "for word in result:\n",
    "    if word not in wordCount:\n",
    "        wordCount[word] = 1\n",
    "    else:\n",
    "        wordCount[word] += 1\n",
    "        \n",
    "#sorted is used to sort dictionary in descending order.\n",
    "sortedFrequency = sorted(wordCount.items(), key=lambda x: (-x[1], x[0])) "
   ]
  },
  {
   "cell_type": "code",
   "execution_count": 5,
   "metadata": {
    "collapsed": false
   },
   "outputs": [
    {
     "data": {
      "text/plain": [
       "[('haue', 448), ('brutus', 162), ('vpon', 162), ('bru', 153), ('hath', 144)]"
      ]
     },
     "execution_count": 5,
     "metadata": {},
     "output_type": "execute_result"
    }
   ],
   "source": [
    "# Showing the Top 5 Frequent words used in file\n",
    "sortedFrequency[0:5]"
   ]
  },
  {
   "cell_type": "code",
   "execution_count": 6,
   "metadata": {
    "collapsed": false
   },
   "outputs": [
    {
     "data": {
      "text/plain": [
       "[('the', 825),\n",
       " ('haue', 448),\n",
       " ('i', 403),\n",
       " ('you', 349),\n",
       " ('ham', 337),\n",
       " ('a', 320),\n",
       " ('my', 314),\n",
       " ('is', 313),\n",
       " ('thou', 312),\n",
       " ('shall', 300),\n",
       " ('lord', 293),\n",
       " ('to', 288),\n",
       " ('this', 248),\n",
       " ('his', 245),\n",
       " ('come', 232),\n",
       " ('king', 231),\n",
       " ('enter', 230),\n",
       " ('it', 224),\n",
       " ('that', 221),\n",
       " ('good', 218),\n",
       " ('let', 217),\n",
       " ('your', 206),\n",
       " ('not', 202),\n",
       " ('thy', 202),\n",
       " ('will', 198),\n",
       " ('caesar', 193),\n",
       " ('in', 191),\n",
       " ('vs', 184),\n",
       " ('know', 176),\n",
       " ('thee', 174),\n",
       " ('would', 170),\n",
       " ('he', 165),\n",
       " ('brutus', 162),\n",
       " ('like', 162),\n",
       " ('vpon', 162),\n",
       " ('and', 158),\n",
       " ('bru', 153),\n",
       " ('so', 152),\n",
       " ('well', 152),\n",
       " ('be', 146),\n",
       " ('hath', 144),\n",
       " ('selfe', 143),\n",
       " ('our', 142),\n",
       " ('all', 139),\n",
       " ('man', 139),\n",
       " ('may', 138),\n",
       " ('macb', 137),\n",
       " ('yet', 136),\n",
       " ('heere', 135),\n",
       " ('s', 132)]"
      ]
     },
     "execution_count": 6,
     "metadata": {},
     "output_type": "execute_result"
    }
   ],
   "source": [
    "shakeCount={}\n",
    "#Loop to find the unique words\n",
    "for word in cleanShakeWords:\n",
    "    if word not in shakeCount:\n",
    "        shakeCount[word] = 1\n",
    "    else:\n",
    "        shakeCount[word] += 1\n",
    "\n",
    "#sorted is used to sort dictionary in descending order.\n",
    "sortedShake = sorted(shakeCount.items(), key=lambda x: (-x[1], x[0])) \n",
    "\n",
    "# Showing the Top 5 Frequent words used in file\n",
    "sortedShake[0:50]"
   ]
  },
  {
   "cell_type": "code",
   "execution_count": 7,
   "metadata": {
    "collapsed": false
   },
   "outputs": [
    {
     "data": {
      "text/plain": [
       "[('the', 3996),\n",
       " ('girl', 2956),\n",
       " ('guy', 2751),\n",
       " ('a', 2473),\n",
       " ('i', 2158),\n",
       " ('you', 2033),\n",
       " ('s', 1970),\n",
       " ('t', 1957),\n",
       " ('like', 1696),\n",
       " ('not', 1443),\n",
       " ('man', 1075),\n",
       " ('know', 1025),\n",
       " ('woman', 998),\n",
       " ('m', 901),\n",
       " ('yeah', 895),\n",
       " ('it', 889),\n",
       " ('page', 887),\n",
       " ('firefox', 879),\n",
       " ('get', 869),\n",
       " ('new', 790),\n",
       " ('chick', 714),\n",
       " ('to', 711),\n",
       " ('is', 702),\n",
       " ('one', 700),\n",
       " ('have', 699),\n",
       " ('oh', 682),\n",
       " ('was', 681),\n",
       " ('open', 679),\n",
       " ('that', 673),\n",
       " ('window', 670),\n",
       " ('don', 666),\n",
       " ('be', 648),\n",
       " ('good', 644),\n",
       " ('bookmarks', 598),\n",
       " ('teen', 587),\n",
       " ('well', 586),\n",
       " ('firebird', 583),\n",
       " ('cell', 577),\n",
       " ('right', 576),\n",
       " ('this', 576),\n",
       " ('go', 564),\n",
       " ('my', 549),\n",
       " ('re', 543),\n",
       " ('can', 537),\n",
       " ('work', 537),\n",
       " ('bar', 536),\n",
       " ('menu', 530),\n",
       " ('tab', 529),\n",
       " ('lady', 524),\n",
       " ('toolbar', 518)]"
      ]
     },
     "execution_count": 7,
     "metadata": {},
     "output_type": "execute_result"
    }
   ],
   "source": [
    "webCount={}\n",
    "#Loop to find the unique words\n",
    "for word in filterList:\n",
    "    if word not in webCount:\n",
    "        webCount[word] = 1\n",
    "    else:\n",
    "        webCount[word] += 1\n",
    "\n",
    "#sorted is used to sort dictionary in descending order.\n",
    "sortedCount = sorted(webCount.items(), key=lambda x: (-x[1], x[0])) \n",
    "\n",
    "# Showing the Top\n",
    "sortedCount[0:50]"
   ]
  }
 ],
 "metadata": {
  "anaconda-cloud": {},
  "kernelspec": {
   "display_name": "Python 3",
   "language": "python",
   "name": "python3"
  },
  "language_info": {
   "codemirror_mode": {
    "name": "ipython",
    "version": 3
   },
   "file_extension": ".py",
   "mimetype": "text/x-python",
   "name": "python",
   "nbconvert_exporter": "python",
   "pygments_lexer": "ipython3",
   "version": "3.6.0"
  }
 },
 "nbformat": 4,
 "nbformat_minor": 1
}
