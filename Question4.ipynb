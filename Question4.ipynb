{
 "cells": [
  {
   "cell_type": "markdown",
   "metadata": {},
   "source": [
    "# Question4\n",
    "Under package nps_chat, see what files are in it.\n",
    "Find 'user121' and see how many posts he posted in all.\n",
    "Find out how many unique user in each age range group. (20s, 30s,...)(Hint: files' name)\n"
   ]
  },
  {
   "cell_type": "code",
   "execution_count": 3,
   "metadata": {
    "collapsed": true
   },
   "outputs": [],
   "source": [
    "import nltk\n",
    "from nltk.corpus import nps_chat"
   ]
  },
  {
   "cell_type": "code",
   "execution_count": 5,
   "metadata": {
    "collapsed": false
   },
   "outputs": [
    {
     "data": {
      "text/plain": [
       "['10-19-20s_706posts.xml',\n",
       " '10-19-30s_705posts.xml',\n",
       " '10-19-40s_686posts.xml',\n",
       " '10-19-adults_706posts.xml',\n",
       " '10-24-40s_706posts.xml',\n",
       " '10-26-teens_706posts.xml',\n",
       " '11-06-adults_706posts.xml',\n",
       " '11-08-20s_705posts.xml',\n",
       " '11-08-40s_706posts.xml',\n",
       " '11-08-adults_705posts.xml',\n",
       " '11-08-teens_706posts.xml',\n",
       " '11-09-20s_706posts.xml',\n",
       " '11-09-40s_706posts.xml',\n",
       " '11-09-adults_706posts.xml',\n",
       " '11-09-teens_706posts.xml']"
      ]
     },
     "execution_count": 5,
     "metadata": {},
     "output_type": "execute_result"
    }
   ],
   "source": [
    "posts = nltk.corpus.nps_chat.fileids()"
   ]
  },
  {
   "cell_type": "code",
   "execution_count": 10,
   "metadata": {
    "collapsed": false
   },
   "outputs": [
    {
     "data": {
      "text/plain": [
       "132"
      ]
     },
     "execution_count": 10,
     "metadata": {},
     "output_type": "execute_result"
    }
   ],
   "source": [
    "import re\n",
    "posts = nltk.corpus.nps_chat.fileids()\n",
    "users=[]                           #This list will have all users from nps_chat.\n",
    "for post in posts:\n",
    "    raw=nltk.corpus.nps_chat.raw(post)\n",
    "    user=re.findall(r'user=\"\\d{2}-\\d{2}-(.*)\">', raw)        #Implementing regular expression to get user names and their age.\n",
    "    for u in user:\n",
    "        users.append(u)\n",
    "UserList = [a for a in users if \"User121\" in a]           #Fetching the of User121 from users\n",
    "len(UserList)\n",
    "                                "
   ]
  },
  {
   "cell_type": "code",
   "execution_count": 20,
   "metadata": {
    "collapsed": false,
    "scrolled": false
   },
   "outputs": [
    {
     "name": "stdout",
     "output_type": "stream",
     "text": [
      "Total users in Teen group =  206\n",
      "Total users in 20s group =  162\n",
      "Total users in 30s group =  44\n",
      "Total users in 40s group =  80\n",
      "Total users in adult group =  138\n"
     ]
    }
   ],
   "source": [
    "TeenList = [a for a in users if \"teen\" in a]                    #Adding age group to the userlist and fetching count.\n",
    "teen = set(TeenList)\n",
    "print('Total users in Teen group = ', len(teen))\n",
    "\n",
    "TwentyList = [a for a in users if \"20s\" in a]\n",
    "Twenty = set(TwentyList)\n",
    "print('Total users in 20s group = ', len(Twenty))\n",
    "\n",
    "ThirtyList = [a for a in users if \"30s\" in a]\n",
    "Thirty = set(ThirtyList)\n",
    "print('Total users in 30s group = ', len(Thirty))\n",
    "\n",
    "FourtyList = [a for a in users if \"40s\" in a]\n",
    "Fourty = set(FourtyList)\n",
    "print('Total users in 40s group = ', len(Fourty))\n",
    "\n",
    "AdultList = [a for a in users if \"adults\" in a]\n",
    "#print(AdultList)\n",
    "adult = set(AdultList)\n",
    "print('Total users in adult group = ', len(adult))"
   ]
  }
 ],
 "metadata": {
  "kernelspec": {
   "display_name": "Python 3",
   "language": "python",
   "name": "python3"
  },
  "language_info": {
   "codemirror_mode": {
    "name": "ipython",
    "version": 3
   },
   "file_extension": ".py",
   "mimetype": "text/x-python",
   "name": "python",
   "nbconvert_exporter": "python",
   "pygments_lexer": "ipython3",
   "version": "3.6.0"
  }
 },
 "nbformat": 4,
 "nbformat_minor": 2
}
