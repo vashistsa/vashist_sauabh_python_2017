{
 "cells": [
  {
   "cell_type": "markdown",
   "metadata": {},
   "source": [
    "# Ques2Part1\n",
    "\n",
    "Read all the json files in the folder called Data.\n",
    "There are three categories of json files in this folder. They are identified by the key called “term” in each of the json file.\n",
    "Create a folder structure to read all these json files and store them into these separate folders. You are expected to create a hierarchy of folder structure.\n",
    "\n",
    " Example:\n",
    "\n",
    "You can place all restaurants json files in a particular country (say Australia) in the same folder. How you group the json files and create a folder structure is your choice.\n",
    "Your task is to identify criteria by which you can group all these json files and store them.\n",
    "(You could use these keys to create hierarchy and store json files: Country, city,\n",
    "categories)"
   ]
  },
  {
   "cell_type": "code",
   "execution_count": 14,
   "metadata": {
    "collapsed": true
   },
   "outputs": [],
   "source": [
    "#Import all the libraries\n",
    "import json\n",
    "import glob\n",
    "import re\n",
    "import os\n",
    "import shutil"
   ]
  },
  {
   "cell_type": "code",
   "execution_count": 18,
   "metadata": {
    "collapsed": false
   },
   "outputs": [
    {
     "name": "stdout",
     "output_type": "stream",
     "text": [
      "{'GB', 'AU', 'US', 'NZ', 'CA', 'FR'}\n"
     ]
    }
   ],
   "source": [
    "#use glob to read the json files\n",
    "currDir= os.getcwd() # get the current working directory\n",
    "jsonList = glob.glob('C:/Users/DELL PC/Documents/Python/DataAnalysis4Python_Spring17-master/Assignment 2/Data/*.json')\n",
    "countryList=[]\n",
    "\n",
    "#Loop to find out the unique countries in json files\n",
    "for file in range(len(jsonList)):\n",
    "    data= json.loads(open(jsonList[file]).read()) #reading data from json using load function\n",
    "    countryList.append(data[\"location\"][\"country\"])\n",
    "    uniqueCountries = set(countryList)\n",
    "print(uniqueCountries)"
   ]
  },
  {
   "cell_type": "code",
   "execution_count": 17,
   "metadata": {
    "collapsed": false
   },
   "outputs": [
    {
     "name": "stdout",
     "output_type": "stream",
     "text": [
      "C:\\Users\\DELL PC\n"
     ]
    }
   ],
   "source": [
    "folder= '/DataCode'\n",
    "# Check if folder exists in directory or not.\n",
    "currDir= os.getcwd()\n",
    "#print(currDir)\n",
    "if os.path.isdir(currDir+folder) == 0:\n",
    "     os.mkdir(currDir+folder)\n",
    "#Looping unique countries\n",
    "for country in uniqueCountries:\n",
    "    #Loop to accress json files\n",
    "    for file in range(len(jsonList)):\n",
    "        data= json.loads(open(jsonList[file]).read()) #reading data from json using load function\n",
    "        #if country key in json matches with the country then fetch all data\n",
    "        if data[\"location\"][\"country\"] == country:\n",
    "            state = data[\"location\"][\"state\"]\n",
    "            city =  data[\"location\"][\"city\"]\n",
    "            zipCode = data[\"location\"][\"zip_code\"]\n",
    "            term =  data['term']\n",
    "            \n",
    "            #check if directory already exists and create subdirectory based on attributes in json file\n",
    "            if os.path.isdir(currDir+folder) == 1:\n",
    "                os.makedirs(currDir+folder+\"/\"+country+\"/\"+state+\"/\"+city+\"/\"+zipCode+\"/\"+term, exist_ok=True)\n",
    "                destination = currDir+folder+\"/\"+country+\"/\"+state+\"/\"+city+\"/\"+zipCode+\"/\"+term\n",
    "                shutil.copy(jsonList[file], destination)"
   ]
  }
 ],
 "metadata": {
  "kernelspec": {
   "display_name": "Python 3",
   "language": "python",
   "name": "python3"
  },
  "language_info": {
   "codemirror_mode": {
    "name": "ipython",
    "version": 3
   },
   "file_extension": ".py",
   "mimetype": "text/x-python",
   "name": "python",
   "nbconvert_exporter": "python",
   "pygments_lexer": "ipython3",
   "version": "3.6.0"
  }
 },
 "nbformat": 4,
 "nbformat_minor": 2
}
